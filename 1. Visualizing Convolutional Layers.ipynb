{
 "cells": [
  {
   "cell_type": "markdown",
   "metadata": {},
   "source": [
    "# Visualizing Convolutional Layers\n",
    "\n",
    "In the previous notebooks we built a MLP to predict numbers from the classical MNIST dataset. Although it worked well for that particular set of data, it's not often the case that vanilla fully-connected, feedforward network perform well in problems that require a deep understanding of spatial data. \n",
    "\n",
    "In this notebook we'll focus our attention on convolutional layers, one of the building blocks of convolutional neural layers (CNNs, for short), the root of the modern computer vision. "
   ]
  },
  {
   "cell_type": "markdown",
   "metadata": {},
   "source": [
    "## Import the image\n",
    "\n",
    "Let's import the image we'll use to visualize the feature maps of a CNN layer."
   ]
  },
  {
   "cell_type": "code",
   "execution_count": 1,
   "metadata": {},
   "outputs": [
    {
     "name": "stderr",
     "output_type": "stream",
     "text": [
      "c:\\programdata\\miniconda3\\lib\\site-packages\\ipykernel_launcher.py:14: DeprecationWarning: `imresize` is deprecated!\n",
      "`imresize` is deprecated in SciPy 1.0.0, and will be removed in 1.2.0.\n",
      "Use ``skimage.transform.resize`` instead.\n",
      "  \n"
     ]
    },
    {
     "data": {
      "image/png": "[encoded data removed]",
      "text/plain": [
       "<matplotlib.figure.Figure at 0x169712fdcc0>"
      ]
     },
     "metadata": {},
     "output_type": "display_data"
    }
   ],
   "source": [
    "%matplotlib inline\n",
    "\n",
    "import cv2\n",
    "import scipy.misc\n",
    "import matplotlib.pyplot as plt\n",
    "\n",
    "image_path = 'images/pug.jpeg'\n",
    "\n",
    "# Load color image and convert to grayscale\n",
    "colored_image = cv2.imread(image_path)\n",
    "gray_image = cv2.cvtColor(colored_image, cv2.COLOR_BGR2GRAY)\n",
    "\n",
    "# Make it smaller\n",
    "small_image = scipy.misc.imresize(gray_image, 0.3)\n",
    "\n",
    "# Rescale entries using our division by 255 trick.\n",
    "small_image = small_image.astype('float32') / 255\n",
    "\n",
    "# Show the image\n",
    "plt.imshow(small_image, cmap='gray')\n",
    "plt.show()"
   ]
  },
  {
   "cell_type": "markdown",
   "metadata": {},
   "source": [
    "## Specify Filters\n",
    "\n",
    "Let's use some filters to isolate or highlight particular features in the image. Although we'll do it manually, by setting up the values of each filter, this is basically what a CNN is doing underneath: Tuning the values of each filter to minimize the overall loss and, thus, produce the best prodictions possible."
   ]
  },
  {
   "cell_type": "code",
   "execution_count": 2,
   "metadata": {},
   "outputs": [
    {
     "data": {
      "image/png": "[encoded data removed]",
      "text/plain": [
       "<matplotlib.figure.Figure at 0x16911d22f98>"
      ]
     },
     "metadata": {},
     "output_type": "display_data"
    }
   ],
   "source": [
    "import numpy as np\n",
    "\n",
    "filter_values = np.array([[-1, -1, 1, 1], [-1, -1, 1, 1], [-1, -1, 1, 1], [-1, -1, 1, 1]])\n",
    "\n",
    "# Define four filters by tweaking and tinkering with the values defined above:\n",
    "\n",
    "filter_1 = filter_values\n",
    "filter_2 = -filter_1\n",
    "filter_3 = filter_1.T\n",
    "filter_4 = -filter_3\n",
    "\n",
    "filters = [filter_1, filter_2, filter_3, filter_4]\n",
    "\n",
    "# Visualize the filters.\n",
    "\n",
    "figure = plt.figure(figsize=(10, 5))\n",
    "\n",
    "for filter_index in range(len(filters)):\n",
    "    ax = figure.add_subplot(1, len(filters), filter_index + 1, xticks=[], yticks=[])\n",
    "    ax.imshow(filters[filter_index], cmap='gray')\n",
    "    ax.set_title(f'Filter {filter_index + 1}')\n",
    "    width, height = filters[filter_index].shape\n",
    "    \n",
    "    for x in range(width):\n",
    "        for y in range(height):\n",
    "            filter_value = filters[filter_index][x][y]\n",
    "            ax.annotate(f'{filter_value}', \n",
    "                        xy=(y, x), \n",
    "                        horizontalalignment='center', \n",
    "                        verticalalignment='center',\n",
    "                        color='yellow' if filter_value < 0 else 'navy')\n",
    "    "
   ]
  },
  {
   "cell_type": "markdown",
   "metadata": {},
   "source": [
    "There. These are the four filters we'll apply to our Pug image."
   ]
  },
  {
   "cell_type": "markdown",
   "metadata": {},
   "source": [
    "## Visualize the Activations Map for Each Filter\n",
    "\n",
    "Let's now see how the feature maps look like as a result of applying these filters."
   ]
  },
  {
   "cell_type": "code",
   "execution_count": null,
   "metadata": {},
   "outputs": [
    {
     "name": "stderr",
     "output_type": "stream",
     "text": [
      "Using TensorFlow backend.\n"
     ]
    }
   ],
   "source": [
    "from keras.models import Sequential\n",
    "from keras.layers.convolutional import Convolution2D\n",
    "\n",
    "# Show image\n",
    "plt.imshow(small_image, cmap='gray')\n",
    "\n",
    "input_shape = (small_image.shape[0], small_image.shape[1], 1)\n",
    "\n",
    "# Define a small NN with a single convolutional layer comprised of only one filter\n",
    "model = Sequential()\n",
    "model.add(Convolution2D(1, 4, activation='relu', input_shape=input_shape))\n",
    "\n",
    "# Apply convolutional filter and plot the outcome\n",
    "def apply_filter(image, index, filter_list, ax):\n",
    "    custom_weights = [np.reshape(filter_list[index], (4, 4, 1, 1)), np.array([0])]\n",
    "    model.layers[0].set_weights(custom_weights)\n",
    "    \n",
    "    input = np.reshape(image, (1, image.shape[0], image.shape[1], 1))\n",
    "    prediction = model.predict(input)\n",
    "    ax.imshow(np.squeeze(prediction), cmap='gray')\n",
    "    \n",
    "\n",
    "# Visualize all filters\n",
    "\n",
    "figure = plt.figure(figsize=(12, 6))\n",
    "figure.subplots_adjust(left=0, \n",
    "                       right=1.5, \n",
    "                       bottom=0.8,\n",
    "                       top=1, \n",
    "                       hspace=0.05, \n",
    "                       wspace=0.05)\n",
    "\n",
    "for index in range(len(filters)):\n",
    "    ax = figure.add_subplot(1, len(filters), index + 1, xticks=[], yticks=[])\n",
    "    ax.imshow(filters[index], cmap='gray')\n",
    "    ax.set_title(f'Filter {index + 1}')\n",
    "    \n",
    "# Apply filters and visualize activation maps\n",
    "figure = plt.figure(figsize=(20, 20))\n",
    "for index in range(len(filters)):\n",
    "    ax = figure.add_subplot(1, len(filters), index + 1, xticks=[], yticks=[])\n",
    "    apply_filter(small_image, index, filters, ax)\n",
    "    ax.set_title(f'Activation Map for Filter {index + 1}')"
   ]
  },
  {
   "cell_type": "markdown",
   "metadata": {},
   "source": [
    "We see that each filter is detecting particular aspects of the image. The first one seems to be focusing on the right side lines of the dog, while the second on the left. On the other hand, the third filter seems to be capturing the contour of the dog, while the fourth appears to being activated by the inner lines that compound the details of the Pug's body."
   ]
  }
 ],
 "metadata": {
  "kernelspec": {
   "display_name": "Python 3",
   "language": "python",
   "name": "python3"
  },
  "language_info": {
   "codemirror_mode": {
    "name": "ipython",
    "version": 3
   },
   "file_extension": ".py",
   "mimetype": "text/x-python",
   "name": "python",
   "nbconvert_exporter": "python",
   "pygments_lexer": "ipython3",
   "version": "3.6.5"
  }
 },
 "nbformat": 4,
 "nbformat_minor": 2
}
